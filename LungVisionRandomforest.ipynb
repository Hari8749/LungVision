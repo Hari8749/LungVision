{
 "cells": [
  {
   "cell_type": "code",
   "execution_count": null,
   "id": "ede74611-5793-42ea-86f0-cfc639fa1a66",
   "metadata": {},
   "outputs": [],
   "source": [
    "'''\n",
    "=====================================================\n",
    "Lung Cancer Classification Project\n",
    "=====================================================\n",
    "\n",
    " Steps for Random Forest (Classical ML)\n",
    "=====================================================\n",
    "\n",
    "1. Dataset Preparation\n",
    "   - Load IQ-OTHNCCD dataset\n",
    "   - Convert images to grayscale & resize (64x64 for efficiency)\n",
    "   - Flatten each image into a 1D feature vector\n",
    "\n",
    "2. Train-Test Split\n",
    "   - Divide dataset into training and validation sets (80/20 split)\n",
    "\n",
    "3. Train Random Forest Classifier\n",
    "   - Use scikit-learn RandomForestClassifier\n",
    "   - Fit on flattened image vectors\n",
    "\n",
    "4. Prediction & Evaluation\n",
    "   - Predict on validation set\n",
    "   - Compute accuracy\n",
    "   - Generate confusion matrix & classification report\n",
    "\n",
    "5. Feature Importance (Optional)\n",
    "   - Visualize most important features learned by Random Forest\n",
    "\n",
    "'''\n"
   ]
  },
  {
   "cell_type": "code",
   "execution_count": 1,
   "id": "d5fe81bb-a384-4bc0-8967-f711dc0dd952",
   "metadata": {},
   "outputs": [],
   "source": [
    "import os\n",
    "import numpy as np\n",
    "import pandas as pd\n",
    "import cv2\n",
    "from tqdm import tqdm\n",
    "import matplotlib.pyplot as plt\n",
    "from sklearn.ensemble import RandomForestClassifier\n",
    "from sklearn.metrics import classification_report, confusion_matrix, accuracy_score\n",
    "import seaborn as sns\n"
   ]
  },
  {
   "cell_type": "code",
   "execution_count": 15,
   "id": "bc9973ab-e09c-4a22-918d-049cfa653bb1",
   "metadata": {},
   "outputs": [
    {
     "name": "stdout",
     "output_type": "stream",
     "text": [
      "Requirement already satisfied: kagglehub in /opt/anaconda3/lib/python3.11/site-packages (0.3.10)\n",
      "Requirement already satisfied: packaging in /opt/anaconda3/lib/python3.11/site-packages (from kagglehub) (23.1)\n",
      "Requirement already satisfied: pyyaml in /opt/anaconda3/lib/python3.11/site-packages (from kagglehub) (6.0.1)\n",
      "Requirement already satisfied: requests in /opt/anaconda3/lib/python3.11/site-packages (from kagglehub) (2.32.3)\n",
      "Requirement already satisfied: tqdm in /opt/anaconda3/lib/python3.11/site-packages (from kagglehub) (4.65.0)\n",
      "Requirement already satisfied: charset-normalizer<4,>=2 in /opt/anaconda3/lib/python3.11/site-packages (from requests->kagglehub) (2.0.4)\n",
      "Requirement already satisfied: idna<4,>=2.5 in /opt/anaconda3/lib/python3.11/site-packages (from requests->kagglehub) (3.4)\n",
      "Requirement already satisfied: urllib3<3,>=1.21.1 in /opt/anaconda3/lib/python3.11/site-packages (from requests->kagglehub) (2.0.7)\n",
      "Requirement already satisfied: certifi>=2017.4.17 in /opt/anaconda3/lib/python3.11/site-packages (from requests->kagglehub) (2025.4.26)\n",
      "Warning: Looks like you're using an outdated `kagglehub` version (installed: 0.3.10), please consider upgrading to the latest version (0.3.13).\n",
      "Downloading from https://www.kaggle.com/api/v1/datasets/download/adityamahimkar/iqothnccd-lung-cancer-dataset?dataset_version_number=2...\n"
     ]
    },
    {
     "name": "stderr",
     "output_type": "stream",
     "text": [
      "100%|████████████████████████████████████████| 199M/199M [01:51<00:00, 1.87MB/s]"
     ]
    },
    {
     "name": "stdout",
     "output_type": "stream",
     "text": [
      "Extracting files...\n"
     ]
    },
    {
     "name": "stderr",
     "output_type": "stream",
     "text": [
      "\n"
     ]
    },
    {
     "name": "stdout",
     "output_type": "stream",
     "text": [
      "Dataset downloaded to: /Users/dhanushmanikanta/.cache/kagglehub/datasets/adityamahimkar/iqothnccd-lung-cancer-dataset/versions/2\n",
      "DATA_DIR: /Users/dhanushmanikanta/.cache/kagglehub/datasets/adityamahimkar/iqothnccd-lung-cancer-dataset/versions/2/The IQ-OTHNCCD lung cancer dataset/The IQ-OTHNCCD lung cancer dataset\n",
      "OUT_DIR: data/processed_rf\n"
     ]
    }
   ],
   "source": [
    "# dataset paths\n",
    "!pip install kagglehub\n",
    "\n",
    "import kagglehub, os\n",
    "\n",
    "# Download IQ-OTHNCCD Lung Cancer Dataset\n",
    "path = kagglehub.dataset_download(\"adityamahimkar/iqothnccd-lung-cancer-dataset\")\n",
    "print(\"Dataset downloaded to:\", path)\n",
    "\n",
    "# Define dataset paths\n",
    "DATA_DIR = os.path.join(path, \"The IQ-OTHNCCD lung cancer dataset\", \"The IQ-OTHNCCD lung cancer dataset\")\n",
    "OUT_DIR = \"data/processed_rf\"\n",
    "os.makedirs(OUT_DIR, exist_ok=True)\n",
    "\n",
    "print(\"DATA_DIR:\", DATA_DIR)\n",
    "print(\"OUT_DIR:\", OUT_DIR)\n",
    "\n",
    "label_map = {\n",
    "    \"Normal cases\": 0,\n",
    "    \"Bengin cases\": 1,\n",
    "    \"Malignant cases\": 2\n",
    "}\n",
    "\n",
    "IMG_SIZE = 64   # smaller for speed (RandomForest works better with fewer features)\n"
   ]
  },
  {
   "cell_type": "code",
   "execution_count": 5,
   "id": "d251b700-1812-421c-a7ca-c9b56f8791ea",
   "metadata": {},
   "outputs": [
    {
     "name": "stderr",
     "output_type": "stream",
     "text": [
      "Normal cases: 100%|██████████████████████████| 416/416 [00:00<00:00, 484.68it/s]\n",
      "Bengin cases: 100%|██████████████████████████| 120/120 [00:00<00:00, 519.10it/s]\n",
      "Malignant cases: 100%|███████████████████████| 561/561 [00:00<00:00, 561.30it/s]"
     ]
    },
    {
     "name": "stdout",
     "output_type": "stream",
     "text": [
      "Dataset size: 1097\n"
     ]
    },
    {
     "name": "stderr",
     "output_type": "stream",
     "text": [
      "\n"
     ]
    }
   ],
   "source": [
    "all_data = []\n",
    "for cls, label in label_map.items():\n",
    "    folder = os.path.join(DATA_DIR, cls)\n",
    "    for fname in tqdm(os.listdir(folder), desc=cls):\n",
    "        if fname.lower().endswith(\".jpg\"):\n",
    "            path = os.path.join(folder, fname)\n",
    "            img = cv2.imread(path, cv2.IMREAD_GRAYSCALE)\n",
    "            img = cv2.resize(img, (IMG_SIZE, IMG_SIZE))\n",
    "            img = img.astype(np.float32) / 255.0\n",
    "            all_data.append([img.flatten(), label])  # flatten for RandomForest\n",
    "\n",
    "df = pd.DataFrame(all_data, columns=[\"image\",\"label\"])\n",
    "print(\"Dataset size:\", len(df))\n"
   ]
  },
  {
   "cell_type": "code",
   "execution_count": 7,
   "id": "cad4227d-04a3-4b07-bf00-3bd74f44f454",
   "metadata": {},
   "outputs": [
    {
     "name": "stdout",
     "output_type": "stream",
     "text": [
      "Train: (877, 4096) Val: (220, 4096)\n"
     ]
    }
   ],
   "source": [
    "from sklearn.model_selection import train_test_split\n",
    "\n",
    "X = np.stack(df[\"image\"].values)\n",
    "y = df[\"label\"].values\n",
    "\n",
    "X_train, X_val, y_train, y_val = train_test_split(X, y, test_size=0.2, random_state=42, stratify=y)\n",
    "\n",
    "print(\"Train:\", X_train.shape, \"Val:\", X_val.shape)\n"
   ]
  },
  {
   "cell_type": "code",
   "execution_count": 9,
   "id": "47fa686d-fbc1-40b8-9e74-43efd628bd74",
   "metadata": {},
   "outputs": [
    {
     "data": {
      "text/html": [
       "<style>#sk-container-id-1 {color: black;}#sk-container-id-1 pre{padding: 0;}#sk-container-id-1 div.sk-toggleable {background-color: white;}#sk-container-id-1 label.sk-toggleable__label {cursor: pointer;display: block;width: 100%;margin-bottom: 0;padding: 0.3em;box-sizing: border-box;text-align: center;}#sk-container-id-1 label.sk-toggleable__label-arrow:before {content: \"▸\";float: left;margin-right: 0.25em;color: #696969;}#sk-container-id-1 label.sk-toggleable__label-arrow:hover:before {color: black;}#sk-container-id-1 div.sk-estimator:hover label.sk-toggleable__label-arrow:before {color: black;}#sk-container-id-1 div.sk-toggleable__content {max-height: 0;max-width: 0;overflow: hidden;text-align: left;background-color: #f0f8ff;}#sk-container-id-1 div.sk-toggleable__content pre {margin: 0.2em;color: black;border-radius: 0.25em;background-color: #f0f8ff;}#sk-container-id-1 input.sk-toggleable__control:checked~div.sk-toggleable__content {max-height: 200px;max-width: 100%;overflow: auto;}#sk-container-id-1 input.sk-toggleable__control:checked~label.sk-toggleable__label-arrow:before {content: \"▾\";}#sk-container-id-1 div.sk-estimator input.sk-toggleable__control:checked~label.sk-toggleable__label {background-color: #d4ebff;}#sk-container-id-1 div.sk-label input.sk-toggleable__control:checked~label.sk-toggleable__label {background-color: #d4ebff;}#sk-container-id-1 input.sk-hidden--visually {border: 0;clip: rect(1px 1px 1px 1px);clip: rect(1px, 1px, 1px, 1px);height: 1px;margin: -1px;overflow: hidden;padding: 0;position: absolute;width: 1px;}#sk-container-id-1 div.sk-estimator {font-family: monospace;background-color: #f0f8ff;border: 1px dotted black;border-radius: 0.25em;box-sizing: border-box;margin-bottom: 0.5em;}#sk-container-id-1 div.sk-estimator:hover {background-color: #d4ebff;}#sk-container-id-1 div.sk-parallel-item::after {content: \"\";width: 100%;border-bottom: 1px solid gray;flex-grow: 1;}#sk-container-id-1 div.sk-label:hover label.sk-toggleable__label {background-color: #d4ebff;}#sk-container-id-1 div.sk-serial::before {content: \"\";position: absolute;border-left: 1px solid gray;box-sizing: border-box;top: 0;bottom: 0;left: 50%;z-index: 0;}#sk-container-id-1 div.sk-serial {display: flex;flex-direction: column;align-items: center;background-color: white;padding-right: 0.2em;padding-left: 0.2em;position: relative;}#sk-container-id-1 div.sk-item {position: relative;z-index: 1;}#sk-container-id-1 div.sk-parallel {display: flex;align-items: stretch;justify-content: center;background-color: white;position: relative;}#sk-container-id-1 div.sk-item::before, #sk-container-id-1 div.sk-parallel-item::before {content: \"\";position: absolute;border-left: 1px solid gray;box-sizing: border-box;top: 0;bottom: 0;left: 50%;z-index: -1;}#sk-container-id-1 div.sk-parallel-item {display: flex;flex-direction: column;z-index: 1;position: relative;background-color: white;}#sk-container-id-1 div.sk-parallel-item:first-child::after {align-self: flex-end;width: 50%;}#sk-container-id-1 div.sk-parallel-item:last-child::after {align-self: flex-start;width: 50%;}#sk-container-id-1 div.sk-parallel-item:only-child::after {width: 0;}#sk-container-id-1 div.sk-dashed-wrapped {border: 1px dashed gray;margin: 0 0.4em 0.5em 0.4em;box-sizing: border-box;padding-bottom: 0.4em;background-color: white;}#sk-container-id-1 div.sk-label label {font-family: monospace;font-weight: bold;display: inline-block;line-height: 1.2em;}#sk-container-id-1 div.sk-label-container {text-align: center;}#sk-container-id-1 div.sk-container {/* jupyter's `normalize.less` sets `[hidden] { display: none; }` but bootstrap.min.css set `[hidden] { display: none !important; }` so we also need the `!important` here to be able to override the default hidden behavior on the sphinx rendered scikit-learn.org. See: https://github.com/scikit-learn/scikit-learn/issues/21755 */display: inline-block !important;position: relative;}#sk-container-id-1 div.sk-text-repr-fallback {display: none;}</style><div id=\"sk-container-id-1\" class=\"sk-top-container\"><div class=\"sk-text-repr-fallback\"><pre>RandomForestClassifier(max_depth=20, n_estimators=200, n_jobs=-1,\n",
       "                       random_state=42)</pre><b>In a Jupyter environment, please rerun this cell to show the HTML representation or trust the notebook. <br />On GitHub, the HTML representation is unable to render, please try loading this page with nbviewer.org.</b></div><div class=\"sk-container\" hidden><div class=\"sk-item\"><div class=\"sk-estimator sk-toggleable\"><input class=\"sk-toggleable__control sk-hidden--visually\" id=\"sk-estimator-id-1\" type=\"checkbox\" checked><label for=\"sk-estimator-id-1\" class=\"sk-toggleable__label sk-toggleable__label-arrow\">RandomForestClassifier</label><div class=\"sk-toggleable__content\"><pre>RandomForestClassifier(max_depth=20, n_estimators=200, n_jobs=-1,\n",
       "                       random_state=42)</pre></div></div></div></div></div>"
      ],
      "text/plain": [
       "RandomForestClassifier(max_depth=20, n_estimators=200, n_jobs=-1,\n",
       "                       random_state=42)"
      ]
     },
     "execution_count": 9,
     "metadata": {},
     "output_type": "execute_result"
    }
   ],
   "source": [
    "rf = RandomForestClassifier(\n",
    "    n_estimators=200,       # number of trees\n",
    "    max_depth=20,           # tree depth (prevents overfitting)\n",
    "    random_state=42,\n",
    "    n_jobs=-1               # use all CPU cores\n",
    ")\n",
    "rf.fit(X_train, y_train)\n"
   ]
  },
  {
   "cell_type": "code",
   "execution_count": 11,
   "id": "67405931-6da4-43c8-aaef-72cda46c93e7",
   "metadata": {},
   "outputs": [
    {
     "name": "stdout",
     "output_type": "stream",
     "text": [
      "Validation Accuracy: 0.9545454545454546\n",
      "\n",
      "Classification Report:\n",
      "                  precision    recall  f1-score   support\n",
      "\n",
      "   Normal cases       0.92      0.98      0.95        83\n",
      "   Bengin cases       1.00      0.67      0.80        24\n",
      "Malignant cases       0.97      1.00      0.99       113\n",
      "\n",
      "       accuracy                           0.95       220\n",
      "      macro avg       0.96      0.88      0.91       220\n",
      "   weighted avg       0.96      0.95      0.95       220\n",
      "\n"
     ]
    },
    {
     "data": {
      "image/png": "[encoded data removed]",
      "text/plain": [
       "<Figure size 640x480 with 2 Axes>"
      ]
     },
     "metadata": {},
     "output_type": "display_data"
    }
   ],
   "source": [
    "y_pred = rf.predict(X_val)\n",
    "\n",
    "print(\"Validation Accuracy:\", accuracy_score(y_val, y_pred))\n",
    "print(\"\\nClassification Report:\\n\", classification_report(y_val, y_pred, target_names=list(label_map.keys())))\n",
    "\n",
    "cm = confusion_matrix(y_val, y_pred)\n",
    "sns.heatmap(cm, annot=True, fmt=\"d\", cmap=\"Blues\",\n",
    "            xticklabels=list(label_map.keys()),\n",
    "            yticklabels=list(label_map.keys()))\n",
    "plt.xlabel(\"Predicted\"); plt.ylabel(\"True\"); plt.title(\"Confusion Matrix\")\n",
    "plt.show()\n"
   ]
  },
  {
   "cell_type": "code",
   "execution_count": 13,
   "id": "a3903fbe-2dde-483f-b567-dc6b65eaec24",
   "metadata": {},
   "outputs": [
    {
     "data": {
      "image/png": "[encoded data removed]",
      "text/plain": [
       "<Figure size 640x480 with 1 Axes>"
      ]
     },
     "metadata": {},
     "output_type": "display_data"
    }
   ],
   "source": [
    "importances = rf.feature_importances_\n",
    "plt.plot(sorted(importances, reverse=True)[:50])\n",
    "plt.title(\"Top 50 Feature Importances\")\n",
    "plt.show()\n"
   ]
  },
  {
   "cell_type": "code",
   "execution_count": null,
   "id": "ecfc5264-5b7d-4c62-8f84-e1f971d0bf04",
   "metadata": {},
   "outputs": [],
   "source": [
    "'''\n",
    "=====================================================\n",
    "🔹 Comparison of Models for Lung Cancer Classification\n",
    "=====================================================\n",
    "\n",
    "1. Random Forest (Classical ML)\n",
    "-----------------------------------------------------\n",
    "- Input: Flattened grayscale images (e.g., 64x64 → 4096 features)\n",
    "- Feature Learning: No automatic feature learning → model sees raw pixel values\n",
    "- Training Time: Fast (on CPU)\n",
    "- Accuracy: Moderate (depends on image quality and preprocessing)\n",
    "- Pros:\n",
    "  * Simple and easy to train\n",
    "  * Works well on small datasets\n",
    "  * No need for GPU\n",
    "- Cons:\n",
    "  * Cannot capture spatial image patterns well\n",
    "  * Limited accuracy compared to deep learning\n",
    "\n",
    "2. Custom CNN (Deep Learning from Scratch)\n",
    "-----------------------------------------------------\n",
    "- Input: Grayscale images (e.g., 128x128)\n",
    "- Feature Learning: Learns filters automatically (edges, textures, shapes)\n",
    "- Training Time: Moderate (needs GPU for faster training)\n",
    "- Accuracy: Better than Random Forest if dataset is large enough\n",
    "- Pros:\n",
    "  * Learns useful image features directly\n",
    "  * End-to-end pipeline (raw image → classification)\n",
    "  * Flexible and customizable\n",
    "- Cons:\n",
    "  * Needs more data than Random Forest\n",
    "  * Risk of overfitting if dataset is small\n",
    "  * Training is slower than Random Forest\n",
    "\n",
    "3. ResNet (Transfer Learning with Pretrained Model)\n",
    "-----------------------------------------------------\n",
    "- Input: Resized images (128x128 or 224x224)\n",
    "- Feature Learning: Uses pretrained convolutional layers (from ImageNet)\n",
    "- Training Time: Longer per epoch, but fewer epochs needed\n",
    "- Accuracy: Highest among the three (best generalization)\n",
    "- Pros:\n",
    "  * Pretrained weights → works even on small datasets\n",
    "  * Residual connections → stable training for deep networks\n",
    "  * Usually state-of-the-art accuracy\n",
    "- Cons:\n",
    "  * Requires GPU and more compute resources\n",
    "  * Model size is larger (more parameters)\n",
    "\n",
    "=====================================================\n",
    "🔹 Summary\n",
    "-----------------------------------------------------\n",
    "- Random Forest → Fast, simple, good baseline\n",
    "- Custom CNN   → Learns features from scratch, better than RF if enough data\n",
    "- ResNet       → Most powerful, best accuracy, benefits from transfer learning\n",
    "=====================================================\n",
    "'''\n"
   ]
  }
 ],
 "metadata": {
  "kernelspec": {
   "display_name": "Python 3 (ipykernel)",
   "language": "python",
   "name": "python3"
  },
  "language_info": {
   "codemirror_mode": {
    "name": "ipython",
    "version": 3
   },
   "file_extension": ".py",
   "mimetype": "text/x-python",
   "name": "python",
   "nbconvert_exporter": "python",
   "pygments_lexer": "ipython3",
   "version": "3.11.7"
  }
 },
 "nbformat": 4,
 "nbformat_minor": 5
}
